{
 "cells": [
  {
   "cell_type": "code",
   "execution_count": 75,
   "id": "37e860ad",
   "metadata": {},
   "outputs": [],
   "source": [
    "import pandas as pd\n",
    "\n",
    "######## Data intake\n",
    "cities = pd.read_csv(\"datasets/cities.csv\")\n",
    "stations = pd.read_csv(\"datasets/stations.csv\")\n",
    "tracks = pd.read_csv(\"datasets/tracks.csv\")\n",
    "lines = pd.read_csv(\"datasets/lines.csv\")\n",
    "track_lines = pd.read_csv(\"datasets/track_lines.csv\")\n",
    "station_lines = pd.read_csv(\"datasets/station_lines.csv\")\n",
    "systems = pd.read_csv(\"datasets/systems.csv\")\n",
    "modes = pd.read_csv(\"datasets/modes.csv\")"
   ]
  },
  {
   "cell_type": "code",
   "execution_count": 76,
   "id": "c2b002fa",
   "metadata": {},
   "outputs": [],
   "source": [
    "# Select and rename columns needed for merging in one go\n",
    "cities_info = cities[['id', 'country', 'name']].rename(columns={'id': 'city_id', 'name': 'city'})\n",
    "lines_info = lines[['id', 'name', 'color', 'system_id','transport_mode_id']].rename(columns={'id': 'line_id', 'name': 'line_name', 'color': 'line_color'})\n",
    "systems_info = systems[['id', 'name']].rename(columns={'id': 'system_id', 'name': 'system_name'})\n",
    "track_lines_info = track_lines[['section_id', 'line_id','fromyear','toyear']]\n",
    "station_lines_info = station_lines[['station_id', 'line_id','fromyear','toyear']]"
   ]
  },
  {
   "cell_type": "code",
   "execution_count": 77,
   "id": "0bafcd82",
   "metadata": {},
   "outputs": [],
   "source": [
    "# get mode for each line from modes and then merge \n",
    "modes_info = modes[['id', 'name']].rename(columns={'id': 'transport_mode_id', 'name': 'transport_mode_name'})\n",
    "modes_info['transport_mode_name'] = modes_info['transport_mode_name'].replace('default', 'Unspecified')\n",
    "modes_info['transport_mode_name'] = modes_info['transport_mode_name'].str.replace('_', ' ')\n",
    "modes_info['transport_mode_name'] = modes_info['transport_mode_name'].str.title()\n",
    "\n",
    "lines_info = lines_info.merge(modes_info, on='transport_mode_id', how='left')"
   ]
  },
  {
   "cell_type": "code",
   "execution_count": 78,
   "id": "b5980510",
   "metadata": {},
   "outputs": [],
   "source": [
    "# --- Process STATIONS ---\n",
    "stations = stations.rename(columns={'id': 'station_id', 'name': 'station_name'})\n",
    "\n",
    "# Merge\n",
    "stations = (stations\n",
    "            .merge(cities_info, on='city_id', how='left')\n",
    "            .merge(station_lines_info, on='station_id', how='left')\n",
    "            .merge(lines_info, on='line_id', how='left')\n",
    "            .merge(systems_info, on='system_id', how='left')\n",
    "           )\n",
    "\n",
    "# Extract coordinates\n",
    "stations['longitude'] = stations['geometry'].str.extract(r'POINT\\(([^ ]+) [^)]+\\)')[0].astype(float)\n",
    "stations['latitude'] = stations['geometry'].str.extract(r'POINT\\([^ ]+ ([^)]+)\\)')[0].astype(float)\n",
    "\n",
    "station_cols = ['station_id', 'station_name', 'geometry', 'longitude', 'latitude',\n",
    "                'opening', 'closure', 'city_id', 'city', 'country',\n",
    "                'line_id', 'line_name', 'line_color', 'system_id', 'system_name',\n",
    "                'transport_mode_id', 'transport_mode_name','fromyear','toyear']\n",
    "stations = stations[station_cols]"
   ]
  },
  {
   "cell_type": "code",
   "execution_count": 79,
   "id": "ec9c5efd",
   "metadata": {},
   "outputs": [],
   "source": [
    "# --- Process TRACKS ---\n",
    "tracks = tracks.rename(columns={'id': 'section_id'})\n",
    "\n",
    "# Merge\n",
    "tracks = (tracks\n",
    "          .merge(cities_info, on='city_id', how='left')\n",
    "          .merge(track_lines_info, on='section_id', how='left')\n",
    "          .merge(lines_info, on='line_id', how='left')\n",
    "          .merge(systems_info, on='system_id', how='left')\n",
    "         )\n",
    "\n",
    "track_cols = ['section_id', 'geometry', 'opening', 'closure', 'length',\n",
    "              'line_id', 'line_name', 'line_color', 'system_id', 'system_name',\n",
    "              'city_id', 'city', 'country', 'transport_mode_id', 'transport_mode_name','fromyear','toyear']\n",
    "tracks = tracks[track_cols]"
   ]
  },
  {
   "cell_type": "code",
   "execution_count": 80,
   "id": "eec8211a",
   "metadata": {},
   "outputs": [],
   "source": [
    "\n",
    "# --- Handle name missing data ---\n",
    "\n",
    "## Fill in NA \n",
    "stations['station_name'] = stations['station_name'].fillna('')\n",
    "stations['line_name'] = stations['line_name'].fillna('')\n",
    "stations['line_color'] = stations['line_color'].fillna('#000000')\n",
    "tracks['line_name'] = tracks['line_name'].fillna('')\n",
    "tracks['line_color'] = tracks['line_color'].fillna('#000000')\n",
    "stations['line_id'] = stations['line_id'].fillna(0)\n",
    "tracks['line_id'] = tracks['line_id'].fillna(0)\n",
    "\n",
    "# --- Handle opening and closure date missing data ---\n",
    "\n",
    "# Handle Closure Dates, Fill NaN with 999999, \"still open\".\n",
    "stations['closure'] = stations['closure'].fillna(999999)\n",
    "tracks['closure'] = tracks['closure'].fillna(999999)\n",
    "\n",
    "# Handle Opening Dates, impute missing data based on minimum known opening year for each city\n",
    "stations['opening'] = pd.to_numeric(stations['opening'], errors='coerce')\n",
    "tracks['opening'] = pd.to_numeric(tracks['opening'], errors='coerce')\n",
    "stations.loc[stations['opening'] > 2100, 'opening'] = pd.NA\n",
    "tracks.loc[tracks['opening'] > 2100, 'opening'] = pd.NA\n",
    "stations.loc[stations['opening'] == 0, 'opening'] = pd.NA\n",
    "tracks.loc[tracks['opening'] == 0, 'opening'] = pd.NA\n",
    "stations['opening'] = stations['opening'].astype('Int64')\n",
    "tracks['opening'] = tracks['opening'].astype('Int64')\n",
    "\n",
    "# Flag rows still missing opening date after imputation\n",
    "stations['was_missing_opening'] = stations['opening'].isna() \n",
    "tracks['was_missing_opening'] = tracks['opening'].isna() "
   ]
  },
  {
   "cell_type": "code",
   "execution_count": 81,
   "id": "7fe721d7",
   "metadata": {},
   "outputs": [],
   "source": [
    "# ... (wonkiness calculation) ...\n",
    "# Calculate proportion of missing/imputed opening dates per city\n",
    "pivot_st = pd.pivot_table(stations, values='station_id', index='city_id', columns='was_missing_opening', aggfunc='count', fill_value=0)\n",
    "pivot_tr = pd.pivot_table(tracks, values='section_id', index='city_id', columns='was_missing_opening', aggfunc='count', fill_value=0)\n",
    "\n",
    "pivot_st = pivot_st.rename(columns={True: 'missing', False: 'valid'})\n",
    "pivot_tr = pivot_tr.rename(columns={True: 'missing', False: 'valid'})\n",
    "if 'missing' not in pivot_st.columns: pivot_st['missing'] = 0\n",
    "if 'valid' not in pivot_st.columns: pivot_st['valid'] = 0\n",
    "if 'missing' not in pivot_tr.columns: pivot_tr['missing'] = 0\n",
    "if 'valid' not in pivot_tr.columns: pivot_tr['valid'] = 0\n",
    "\n",
    "# Calculate the \"wonkiness\" score 9missing dates) then merge for filtering\n",
    "pivot_st['wonkiness_st'] = pivot_st['missing'] / (pivot_st['valid'] + pivot_st['missing'])\n",
    "pivot_tr['wonkiness_tr'] = pivot_tr['missing'] / (pivot_tr['valid'] + pivot_tr['missing'])\n",
    "wonk_table = pd.merge(pivot_st[['valid', 'missing', 'wonkiness_st']],\n",
    "                      pivot_tr[['valid', 'missing', 'wonkiness_tr']],\n",
    "                      on='city_id', suffixes=('_st', '_tr'))\n",
    "\n",
    "wonk_table = wonk_table.merge(cities_info[['city_id','city', 'country']], on='city_id', how='left')\n",
    "wonk_table['total_stations'] = wonk_table['valid_st'] + wonk_table['missing_st']\n",
    "wonk_table['total_tracks'] = wonk_table['valid_tr'] + wonk_table['missing_tr']\n",
    "\n",
    "wonk_table['avg_wonkiness'] = wonk_table['wonkiness_tr'] # wonk based on tracks only"
   ]
  },
  {
   "cell_type": "code",
   "execution_count": 82,
   "id": "fa081227",
   "metadata": {},
   "outputs": [],
   "source": [
    "# --- Extract LineString coordinates from WKT strings ---\n",
    "import re\n",
    "def parse_linestring_coords(wkt_string, swap_order=False, precision=6):\n",
    "    if not isinstance(wkt_string, str):\n",
    "        return None \n",
    "\n",
    "    # Regular expression to find all coordinate pairs (lon lat)\n",
    "    coord_pattern = re.compile(r\"(-?\\d+\\.?\\d*)\\s+(-?\\d+\\.?\\d*)\")\n",
    "    matches = coord_pattern.findall(wkt_string)\n",
    "    if not matches:\n",
    "        return None\n",
    "\n",
    "    coord_list = []\n",
    "    for lon_str, lat_str in matches:\n",
    "        try:\n",
    "            lon = round(float(lon_str), precision)\n",
    "            lat = round(float(lat_str), precision)\n",
    "            if swap_order:\n",
    "                coord_list.append([lat, lon]) # Append as [lat, lon]\n",
    "            else:\n",
    "                coord_list.append([lon, lat]) # Append as [lon, lat]\n",
    "        except ValueError:\n",
    "            print(f\"WARN: Could not parse coordinate pair: ('{lon_str}', '{lat_str}') in '{wkt_string}'\")\n",
    "            continue \n",
    "\n",
    "    return coord_list if coord_list else None\n",
    "\n",
    "tracks['linestring_lonlat'] = tracks['geometry'].apply(\n",
    "    lambda x: parse_linestring_coords(x, swap_order=False)\n",
    ") # to be used for export\n",
    "tracks['linestring_latlon'] = tracks['geometry'].apply(\n",
    "    lambda x: parse_linestring_coords(x, swap_order=True)\n",
    ") # to be used for map plotting dl"
   ]
  },
  {
   "cell_type": "code",
   "execution_count": 83,
   "id": "330e172c",
   "metadata": {},
   "outputs": [],
   "source": [
    "# export\n",
    "stations.to_csv(\n",
    "  \"stations_cleaned.csv\", \n",
    "  index=False, \n",
    "  encoding='utf-8', \n",
    "  )\n",
    "tracks.to_csv(\n",
    "  \"tracks_cleaned.csv\", \n",
    "  index=False, \n",
    "  encoding='utf-8', \n",
    "  )\n",
    "wonk_table.to_csv(\n",
    "  \"cities_cleaned.csv\", \n",
    "  index=True,\n",
    "  encoding='utf-8', \n",
    "  )"
   ]
  },
  {
   "cell_type": "code",
   "execution_count": 89,
   "id": "cd893dda",
   "metadata": {},
   "outputs": [
    {
     "name": "stdout",
     "output_type": "stream",
     "text": [
      "0.1\n",
      "70.0\n",
      "(77, 12)\n"
     ]
    },
    {
     "data": {
      "application/vnd.microsoft.datawrangler.viewer.v0+json": {
       "columns": [
        {
         "name": "index",
         "rawType": "int64",
         "type": "integer"
        },
        {
         "name": "city",
         "rawType": "object",
         "type": "string"
        },
        {
         "name": "avg_wonkiness",
         "rawType": "float64",
         "type": "float"
        },
        {
         "name": "total_stations",
         "rawType": "int64",
         "type": "integer"
        }
       ],
       "ref": "5d211e84-b168-4f4c-a2e3-ab6a90d26793",
       "rows": [
        [
         "65",
         "Tokyo",
         "0.0008968609865470852",
         "3926"
        ],
        [
         "95",
         "New York",
         "0.09595559080095163",
         "2773"
        ],
        [
         "46",
         "Nagoya",
         "0.004246284501061571",
         "1618"
        ],
        [
         "34",
         "London",
         "0.007909604519774011",
         "1386"
        ],
        [
         "51",
         "Osaka",
         "0.0",
         "1348"
        ],
        [
         "163",
         "Seoul",
         "0.0",
         "1127"
        ],
        [
         "52",
         "Paris",
         "0.008213552361396304",
         "889"
        ],
        [
         "36",
         "Madrid",
         "0.04128440366972477",
         "878"
        ],
        [
         "7",
         "Barcelona",
         "0.04484304932735426",
         "866"
        ],
        [
         "0",
         "Buenos Aires",
         "0.05339805825242718",
         "795"
        ],
        [
         "8",
         "Beijing",
         "0.043478260869565216",
         "577"
        ],
        [
         "44",
         "Moscow",
         "0.007407407407407408",
         "488"
        ],
        [
         "77",
         "Boston",
         "0.01282051282051282",
         "481"
        ],
        [
         "41",
         "Mexico City",
         "0.0",
         "467"
        ],
        [
         "182",
         "Shenzhen",
         "0.04132231404958678",
         "441"
        ],
        [
         "152",
         "Istanbul",
         "0.023529411764705882",
         "433"
        ],
        [
         "94",
         "New Orleans",
         "0.01694915254237288",
         "425"
        ],
        [
         "5",
         "Athens",
         "0.007366482504604052",
         "421"
        ],
        [
         "100",
         "Pittsburgh",
         "0.011461318051575931",
         "389"
        ],
        [
         "40",
         "Melbourne",
         "0.02197802197802198",
         "327"
        ],
        [
         "185",
         "Tianjin",
         "0.04854368932038835",
         "311"
        ],
        [
         "187",
         "Wuhan",
         "0.02702702702702703",
         "308"
        ],
        [
         "89",
         "Los Angeles",
         "0.018839861179970253",
         "308"
        ],
        [
         "28",
         "Hong Kong",
         "0.0",
         "303"
        ],
        [
         "205",
         "Xi'an",
         "0.1",
         "298"
        ],
        [
         "60",
         "Singapore",
         "0.01639344262295082",
         "290"
        ],
        [
         "49",
         "New Delhi",
         "0.0",
         "288"
        ],
        [
         "42",
         "Milan",
         "0.08333333333333333",
         "279"
        ],
        [
         "30",
         "Kuala Lumpur",
         "0.0",
         "263"
        ],
        [
         "165",
         "Taipei",
         "0.0",
         "258"
        ],
        [
         "101",
         "Portland",
         "0.0",
         "239"
        ],
        [
         "12",
         "Bordeaux",
         "0.0",
         "237"
        ],
        [
         "6",
         "Bangkok",
         "0.0",
         "223"
        ],
        [
         "206",
         "Ningbo",
         "0.0625",
         "201"
        ],
        [
         "39",
         "Marseilles",
         "0.0",
         "197"
        ],
        [
         "48",
         "Naples",
         "0.05454545454545454",
         "189"
        ],
        [
         "133",
         "Grenoble",
         "0.013422818791946308",
         "186"
        ],
        [
         "91",
         "Minneapolis",
         "0.0",
         "180"
        ],
        [
         "84",
         "Denver",
         "0.0",
         "175"
        ],
        [
         "231",
         "Poznań",
         "0.06666666666666667",
         "172"
        ],
        [
         "164",
         "Busan",
         "0.0",
         "162"
        ],
        [
         "154",
         "Izmir",
         "0.0625",
         "158"
        ],
        [
         "159",
         "Eskisehir",
         "0.0",
         "157"
        ],
        [
         "169",
         "Changsha",
         "0.0",
         "149"
        ],
        [
         "220",
         "Thessaloniki",
         "0.034482758620689655",
         "142"
        ],
        [
         "55",
         "Rome",
         "0.04",
         "121"
        ],
        [
         "67",
         "Vienna",
         "0.0",
         "119"
        ],
        [
         "107",
         "San Diego",
         "0.0",
         "117"
        ],
        [
         "178",
         "Kunming",
         "0.024390243902439025",
         "115"
        ],
        [
         "106",
         "Salt Lake City",
         "0.0",
         "112"
        ]
       ],
       "shape": {
        "columns": 3,
        "rows": 77
       }
      },
      "text/html": [
       "<div>\n",
       "<style scoped>\n",
       "    .dataframe tbody tr th:only-of-type {\n",
       "        vertical-align: middle;\n",
       "    }\n",
       "\n",
       "    .dataframe tbody tr th {\n",
       "        vertical-align: top;\n",
       "    }\n",
       "\n",
       "    .dataframe thead th {\n",
       "        text-align: right;\n",
       "    }\n",
       "</style>\n",
       "<table border=\"1\" class=\"dataframe\">\n",
       "  <thead>\n",
       "    <tr style=\"text-align: right;\">\n",
       "      <th></th>\n",
       "      <th>city</th>\n",
       "      <th>avg_wonkiness</th>\n",
       "      <th>total_stations</th>\n",
       "    </tr>\n",
       "  </thead>\n",
       "  <tbody>\n",
       "    <tr>\n",
       "      <th>65</th>\n",
       "      <td>Tokyo</td>\n",
       "      <td>0.000897</td>\n",
       "      <td>3926</td>\n",
       "    </tr>\n",
       "    <tr>\n",
       "      <th>95</th>\n",
       "      <td>New York</td>\n",
       "      <td>0.095956</td>\n",
       "      <td>2773</td>\n",
       "    </tr>\n",
       "    <tr>\n",
       "      <th>46</th>\n",
       "      <td>Nagoya</td>\n",
       "      <td>0.004246</td>\n",
       "      <td>1618</td>\n",
       "    </tr>\n",
       "    <tr>\n",
       "      <th>34</th>\n",
       "      <td>London</td>\n",
       "      <td>0.007910</td>\n",
       "      <td>1386</td>\n",
       "    </tr>\n",
       "    <tr>\n",
       "      <th>51</th>\n",
       "      <td>Osaka</td>\n",
       "      <td>0.000000</td>\n",
       "      <td>1348</td>\n",
       "    </tr>\n",
       "    <tr>\n",
       "      <th>...</th>\n",
       "      <td>...</td>\n",
       "      <td>...</td>\n",
       "      <td>...</td>\n",
       "    </tr>\n",
       "    <tr>\n",
       "      <th>74</th>\n",
       "      <td>Atlanta</td>\n",
       "      <td>0.000000</td>\n",
       "      <td>73</td>\n",
       "    </tr>\n",
       "    <tr>\n",
       "      <th>151</th>\n",
       "      <td>Doha</td>\n",
       "      <td>0.000000</td>\n",
       "      <td>73</td>\n",
       "    </tr>\n",
       "    <tr>\n",
       "      <th>188</th>\n",
       "      <td>Xiamen</td>\n",
       "      <td>0.000000</td>\n",
       "      <td>71</td>\n",
       "    </tr>\n",
       "    <tr>\n",
       "      <th>15</th>\n",
       "      <td>Bucharest</td>\n",
       "      <td>0.037037</td>\n",
       "      <td>70</td>\n",
       "    </tr>\n",
       "    <tr>\n",
       "      <th>137</th>\n",
       "      <td>Dijon</td>\n",
       "      <td>0.000000</td>\n",
       "      <td>70</td>\n",
       "    </tr>\n",
       "  </tbody>\n",
       "</table>\n",
       "<p>77 rows × 3 columns</p>\n",
       "</div>"
      ],
      "text/plain": [
       "          city  avg_wonkiness  total_stations\n",
       "65       Tokyo       0.000897            3926\n",
       "95    New York       0.095956            2773\n",
       "46      Nagoya       0.004246            1618\n",
       "34      London       0.007910            1386\n",
       "51       Osaka       0.000000            1348\n",
       "..         ...            ...             ...\n",
       "74     Atlanta       0.000000              73\n",
       "151       Doha       0.000000              73\n",
       "188     Xiamen       0.000000              71\n",
       "15   Bucharest       0.037037              70\n",
       "137      Dijon       0.000000              70\n",
       "\n",
       "[77 rows x 3 columns]"
      ]
     },
     "execution_count": 89,
     "metadata": {},
     "output_type": "execute_result"
    }
   ],
   "source": [
    "quality_threshold = 0.1 # 10%\n",
    "quantity_threshold = wonk_table['total_stations'].quantile(0.5)\n",
    "\n",
    "filtered_cities = wonk_table[\n",
    "  (wonk_table['avg_wonkiness'] <= quality_threshold) & \n",
    "  (wonk_table['total_stations'] >= quantity_threshold)\n",
    "  ]\n",
    "print(quality_threshold)\n",
    "print(quantity_threshold)\n",
    "print(filtered_cities.shape)\n",
    "filtered_cities[['city','avg_wonkiness','total_stations']].sort_values('total_stations', ascending=False)"
   ]
  }
 ],
 "metadata": {
  "kernelspec": {
   "display_name": "Python 3",
   "language": "python",
   "name": "python3"
  },
  "language_info": {
   "codemirror_mode": {
    "name": "ipython",
    "version": 3
   },
   "file_extension": ".py",
   "mimetype": "text/x-python",
   "name": "python",
   "nbconvert_exporter": "python",
   "pygments_lexer": "ipython3",
   "version": "3.13.5"
  }
 },
 "nbformat": 4,
 "nbformat_minor": 5
}
