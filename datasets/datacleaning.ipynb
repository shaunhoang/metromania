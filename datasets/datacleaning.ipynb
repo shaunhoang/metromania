{
 "cells": [
  {
   "cell_type": "code",
   "execution_count": 49,
   "id": "37e860ad",
   "metadata": {},
   "outputs": [],
   "source": [
    "import pandas as pd\n",
    "\n",
    "######## Data intake\n",
    "cities = pd.read_csv(\"datasets/cities.csv\")\n",
    "stations = pd.read_csv(\"datasets/stations.csv\")\n",
    "tracks = pd.read_csv(\"datasets/tracks.csv\")\n",
    "lines = pd.read_csv(\"datasets/lines.csv\")\n",
    "track_lines = pd.read_csv(\"datasets/track_lines.csv\")\n",
    "station_lines = pd.read_csv(\"datasets/station_lines.csv\")\n",
    "systems = pd.read_csv(\"datasets/systems.csv\")\n",
    "modes = pd.read_csv(\"datasets/modes.csv\")"
   ]
  },
  {
   "cell_type": "code",
   "execution_count": 50,
   "id": "c2b002fa",
   "metadata": {},
   "outputs": [],
   "source": [
    "# Select and rename columns needed for merging in one go\n",
    "cities_info = cities[['id', 'country', 'name']].rename(columns={'id': 'city_id', 'name': 'city'})\n",
    "lines_info = lines[['id', 'name', 'color', 'system_id','transport_mode_id']].rename(columns={'id': 'line_id', 'name': 'line_name', 'color': 'line_color'})\n",
    "systems_info = systems[['id', 'name']].rename(columns={'id': 'system_id', 'name': 'system_name'})\n",
    "track_lines_info = track_lines[['section_id', 'line_id','fromyear','toyear']]\n",
    "station_lines_info = station_lines[['station_id', 'line_id','fromyear','toyear']]"
   ]
  },
  {
   "cell_type": "code",
   "execution_count": 51,
   "id": "0bafcd82",
   "metadata": {},
   "outputs": [],
   "source": [
    "# get mode for each line from modes and then merge \n",
    "modes_info = modes[['id', 'name']].rename(columns={'id': 'transport_mode_id', 'name': 'transport_mode_name'})\n",
    "modes_info['transport_mode_name'] = modes_info['transport_mode_name'].replace('default', 'Unspecified')\n",
    "modes_info['transport_mode_name'] = modes_info['transport_mode_name'].str.replace('_', ' ')\n",
    "modes_info['transport_mode_name'] = modes_info['transport_mode_name'].str.title()\n",
    "modes_info['transport_mode_name'] = modes_info['transport_mode_name'].replace('Brt', 'BRT')\n",
    "\n",
    "lines_info = lines_info.merge(modes_info, on='transport_mode_id', how='left')"
   ]
  },
  {
   "cell_type": "code",
   "execution_count": 52,
   "id": "b5980510",
   "metadata": {},
   "outputs": [],
   "source": [
    "# --- Process STATIONS ---\n",
    "stations = stations.rename(columns={'id': 'station_id', 'name': 'station_name'})\n",
    "\n",
    "# Merge\n",
    "stations = (stations\n",
    "            .merge(cities_info, on='city_id', how='left')\n",
    "            .merge(station_lines_info, on='station_id', how='left')\n",
    "            .merge(lines_info, on='line_id', how='left')\n",
    "            .merge(systems_info, on='system_id', how='left')\n",
    "           )\n",
    "\n",
    "# Extract coordinates\n",
    "stations['longitude'] = stations['geometry'].str.extract(r'POINT\\(([^ ]+) [^)]+\\)')[0].astype(float)\n",
    "stations['latitude'] = stations['geometry'].str.extract(r'POINT\\([^ ]+ ([^)]+)\\)')[0].astype(float)\n",
    "\n",
    "station_cols = ['station_id', 'station_name', 'geometry', 'longitude', 'latitude',\n",
    "                'opening', 'closure', 'city_id', 'city', 'country',\n",
    "                'line_id', 'line_name', 'line_color', 'system_id', 'system_name',\n",
    "                'transport_mode_id', 'transport_mode_name','fromyear','toyear']\n",
    "stations = stations[station_cols]"
   ]
  },
  {
   "cell_type": "code",
   "execution_count": 53,
   "id": "ec9c5efd",
   "metadata": {},
   "outputs": [],
   "source": [
    "# --- Process TRACKS ---\n",
    "tracks = tracks.rename(columns={'id': 'section_id'})\n",
    "\n",
    "# Merge\n",
    "tracks = (tracks\n",
    "          .merge(cities_info, on='city_id', how='left')\n",
    "          .merge(track_lines_info, on='section_id', how='left')\n",
    "          .merge(lines_info, on='line_id', how='left')\n",
    "          .merge(systems_info, on='system_id', how='left')\n",
    "         )\n",
    "\n",
    "track_cols = ['section_id', 'geometry', 'opening', 'closure', 'length',\n",
    "              'line_id', 'line_name', 'line_color', 'system_id', 'system_name',\n",
    "              'city_id', 'city', 'country', 'transport_mode_id', 'transport_mode_name','fromyear','toyear']\n",
    "tracks = tracks[track_cols]"
   ]
  },
  {
   "cell_type": "code",
   "execution_count": 54,
   "id": "eec8211a",
   "metadata": {},
   "outputs": [],
   "source": [
    "\n",
    "# --- Handle name missing data ---\n",
    "\n",
    "## Fill in NA \n",
    "stations['station_name'] = stations['station_name'].fillna('')\n",
    "stations['line_name'] = stations['line_name'].fillna('')\n",
    "stations['line_color'] = stations['line_color'].fillna('#000000')\n",
    "tracks['line_name'] = tracks['line_name'].fillna('')\n",
    "tracks['line_color'] = tracks['line_color'].fillna('#000000')\n",
    "stations['line_id'] = stations['line_id'].fillna(0)\n",
    "tracks['line_id'] = tracks['line_id'].fillna(0)\n",
    "\n",
    "# --- Handle opening and closure date missing data ---\n",
    "\n",
    "# Handle Closure Dates, Fill NaN with 999999, \"still open\".\n",
    "stations['closure'] = stations['closure'].fillna(999999)\n",
    "tracks['closure'] = tracks['closure'].fillna(999999)\n",
    "\n",
    "# Handle Opening Dates, impute missing data based on minimum known opening year for each city\n",
    "stations['opening'] = pd.to_numeric(stations['opening'], errors='coerce')\n",
    "tracks['opening'] = pd.to_numeric(tracks['opening'], errors='coerce')\n",
    "stations.loc[stations['opening'] > 2100, 'opening'] = pd.NA\n",
    "tracks.loc[tracks['opening'] > 2100, 'opening'] = pd.NA\n",
    "stations.loc[stations['opening'] == 0, 'opening'] = pd.NA\n",
    "tracks.loc[tracks['opening'] == 0, 'opening'] = pd.NA\n",
    "stations['opening'] = stations['opening'].astype('Int64')\n",
    "tracks['opening'] = tracks['opening'].astype('Int64')\n",
    "\n",
    "# Flag rows still missing opening date after imputation\n",
    "stations['was_missing_opening'] = stations['opening'].isna() \n",
    "tracks['was_missing_opening'] = tracks['opening'].isna() "
   ]
  },
  {
   "cell_type": "code",
   "execution_count": 55,
   "id": "bf9f6792",
   "metadata": {},
   "outputs": [
    {
     "data": {
      "application/vnd.microsoft.datawrangler.viewer.v0+json": {
       "columns": [
        {
         "name": "transport_mode_name",
         "rawType": "object",
         "type": "string"
        },
        {
         "name": "count",
         "rawType": "int64",
         "type": "integer"
        }
       ],
       "ref": "784db896-d21d-4e97-9c76-cc3476b472de",
       "rows": [
        [
         "Commuter Rail",
         "8335"
        ],
        [
         "Heavy Rail",
         "7881"
        ],
        [
         "Tram",
         "7414"
        ],
        [
         "Light Rail",
         "4810"
        ],
        [
         "Unspecified",
         "1994"
        ],
        [
         "BRT",
         "824"
        ],
        [
         "Inter City Rail",
         "510"
        ],
        [
         "Bus",
         "396"
        ],
        [
         "People Mover",
         "141"
        ],
        [
         "High Speed Rail",
         "64"
        ],
        [
         "Ferry",
         "24"
        ]
       ],
       "shape": {
        "columns": 1,
        "rows": 11
       }
      },
      "text/plain": [
       "transport_mode_name\n",
       "Commuter Rail      8335\n",
       "Heavy Rail         7881\n",
       "Tram               7414\n",
       "Light Rail         4810\n",
       "Unspecified        1994\n",
       "BRT                 824\n",
       "Inter City Rail     510\n",
       "Bus                 396\n",
       "People Mover        141\n",
       "High Speed Rail      64\n",
       "Ferry                24\n",
       "Name: count, dtype: int64"
      ]
     },
     "execution_count": 55,
     "metadata": {},
     "output_type": "execute_result"
    }
   ],
   "source": [
    "tracks.transport_mode_name.value_counts()"
   ]
  },
  {
   "cell_type": "code",
   "execution_count": 56,
   "id": "8bf13300",
   "metadata": {},
   "outputs": [
    {
     "data": {
      "application/vnd.microsoft.datawrangler.viewer.v0+json": {
       "columns": [
        {
         "name": "transport_mode_name",
         "rawType": "object",
         "type": "string"
        },
        {
         "name": "count",
         "rawType": "int64",
         "type": "integer"
        }
       ],
       "ref": "97ae60c9-9768-4944-bd14-dd70f28282ab",
       "rows": [
        [
         "Heavy Rail",
         "21083"
        ],
        [
         "Commuter Rail",
         "8121"
        ],
        [
         "Light Rail",
         "6221"
        ],
        [
         "Tram",
         "3101"
        ],
        [
         "Unspecified",
         "2457"
        ],
        [
         "BRT",
         "1490"
        ],
        [
         "Inter City Rail",
         "926"
        ],
        [
         "People Mover",
         "457"
        ],
        [
         "Bus",
         "167"
        ],
        [
         "High Speed Rail",
         "71"
        ],
        [
         "Ferry",
         "52"
        ]
       ],
       "shape": {
        "columns": 1,
        "rows": 11
       }
      },
      "text/plain": [
       "transport_mode_name\n",
       "Heavy Rail         21083\n",
       "Commuter Rail       8121\n",
       "Light Rail          6221\n",
       "Tram                3101\n",
       "Unspecified         2457\n",
       "BRT                 1490\n",
       "Inter City Rail      926\n",
       "People Mover         457\n",
       "Bus                  167\n",
       "High Speed Rail       71\n",
       "Ferry                 52\n",
       "Name: count, dtype: int64"
      ]
     },
     "execution_count": 56,
     "metadata": {},
     "output_type": "execute_result"
    }
   ],
   "source": [
    "stations.transport_mode_name.value_counts()"
   ]
  },
  {
   "cell_type": "code",
   "execution_count": 57,
   "id": "170d8f9e",
   "metadata": {},
   "outputs": [],
   "source": [
    "# Filter out Bus, Inter City Rail, People Mover, Ferry\n",
    "sel_modes = ['Heavy Rail', 'Light Rail', 'Tram', 'Commuter Rail', 'BRT','Unspecified']\n",
    "stations = stations[stations['transport_mode_name'].isin(sel_modes)]\n",
    "tracks = tracks[tracks['transport_mode_name'].isin(sel_modes)]"
   ]
  },
  {
   "cell_type": "code",
   "execution_count": 58,
   "id": "7fe721d7",
   "metadata": {},
   "outputs": [],
   "source": [
    "# ... (wonkiness calculation) ...\n",
    "# Calculate proportion of missing/imputed opening dates per city\n",
    "pivot_st = pd.pivot_table(stations, values='station_id', index='city_id', columns='was_missing_opening', aggfunc='count', fill_value=0)\n",
    "pivot_tr = pd.pivot_table(tracks, values='section_id', index='city_id', columns='was_missing_opening', aggfunc='count', fill_value=0)\n",
    "\n",
    "pivot_st = pivot_st.rename(columns={True: 'missing', False: 'valid'})\n",
    "pivot_tr = pivot_tr.rename(columns={True: 'missing', False: 'valid'})\n",
    "if 'missing' not in pivot_st.columns: pivot_st['missing'] = 0\n",
    "if 'valid' not in pivot_st.columns: pivot_st['valid'] = 0\n",
    "if 'missing' not in pivot_tr.columns: pivot_tr['missing'] = 0\n",
    "if 'valid' not in pivot_tr.columns: pivot_tr['valid'] = 0\n",
    "\n",
    "# Calculate the \"wonkiness\" score 9missing dates) then merge for filtering\n",
    "pivot_st['wonkiness_st'] = pivot_st['missing'] / (pivot_st['valid'] + pivot_st['missing'])\n",
    "pivot_tr['wonkiness_tr'] = pivot_tr['missing'] / (pivot_tr['valid'] + pivot_tr['missing'])\n",
    "wonk_table = pd.merge(pivot_st[['valid', 'missing', 'wonkiness_st']],\n",
    "                      pivot_tr[['valid', 'missing', 'wonkiness_tr']],\n",
    "                      on='city_id', suffixes=('_st', '_tr'))\n",
    "\n",
    "wonk_table = wonk_table.merge(cities_info[['city_id','city', 'country']], on='city_id', how='left')\n",
    "wonk_table['total_stations'] = wonk_table['valid_st'] + wonk_table['missing_st']\n",
    "wonk_table['total_tracks'] = wonk_table['valid_tr'] + wonk_table['missing_tr']\n",
    "\n",
    "wonk_table['avg_wonkiness'] = wonk_table['wonkiness_tr'] # wonk based on tracks only"
   ]
  },
  {
   "cell_type": "code",
   "execution_count": 59,
   "id": "fa081227",
   "metadata": {},
   "outputs": [],
   "source": [
    "# --- Extract LineString coordinates from WKT strings ---\n",
    "import re\n",
    "def parse_linestring_coords(wkt_string, swap_order=False, precision=6):\n",
    "    if not isinstance(wkt_string, str):\n",
    "        return None \n",
    "\n",
    "    # Regular expression to find all coordinate pairs (lon lat)\n",
    "    coord_pattern = re.compile(r\"(-?\\d+\\.?\\d*)\\s+(-?\\d+\\.?\\d*)\")\n",
    "    matches = coord_pattern.findall(wkt_string)\n",
    "    if not matches:\n",
    "        return None\n",
    "\n",
    "    coord_list = []\n",
    "    for lon_str, lat_str in matches:\n",
    "        try:\n",
    "            lon = round(float(lon_str), precision)\n",
    "            lat = round(float(lat_str), precision)\n",
    "            if swap_order:\n",
    "                coord_list.append([lat, lon]) # Append as [lat, lon]\n",
    "            else:\n",
    "                coord_list.append([lon, lat]) # Append as [lon, lat]\n",
    "        except ValueError:\n",
    "            print(f\"WARN: Could not parse coordinate pair: ('{lon_str}', '{lat_str}') in '{wkt_string}'\")\n",
    "            continue \n",
    "\n",
    "    return coord_list if coord_list else None\n",
    "\n",
    "tracks['linestring_lonlat'] = tracks['geometry'].apply(\n",
    "    lambda x: parse_linestring_coords(x, swap_order=False)\n",
    ") # to be used for export\n",
    "tracks['linestring_latlon'] = tracks['geometry'].apply(\n",
    "    lambda x: parse_linestring_coords(x, swap_order=True)\n",
    ") # to be used for map plotting dl"
   ]
  },
  {
   "cell_type": "code",
   "execution_count": 60,
   "id": "330e172c",
   "metadata": {},
   "outputs": [],
   "source": [
    "# export\n",
    "stations.to_csv(\n",
    "  \"stations_cleaned.csv\", \n",
    "  index=False, \n",
    "  encoding='utf-8', \n",
    "  )\n",
    "tracks.to_csv(\n",
    "  \"tracks_cleaned.csv\", \n",
    "  index=False, \n",
    "  encoding='utf-8', \n",
    "  )\n",
    "wonk_table.to_csv(\n",
    "  \"cities_cleaned.csv\", \n",
    "  index=True,\n",
    "  encoding='utf-8', \n",
    "  )"
   ]
  },
  {
   "cell_type": "code",
   "execution_count": 61,
   "id": "cd893dda",
   "metadata": {},
   "outputs": [
    {
     "name": "stdout",
     "output_type": "stream",
     "text": [
      "0.1\n",
      "70.0\n",
      "(79, 12)\n"
     ]
    },
    {
     "data": {
      "application/vnd.microsoft.datawrangler.viewer.v0+json": {
       "columns": [
        {
         "name": "index",
         "rawType": "int64",
         "type": "integer"
        },
        {
         "name": "city",
         "rawType": "object",
         "type": "string"
        },
        {
         "name": "avg_wonkiness",
         "rawType": "float64",
         "type": "float"
        },
        {
         "name": "total_stations",
         "rawType": "int64",
         "type": "integer"
        }
       ],
       "ref": "fd0926cb-3438-4d8b-bcf3-e3ae00f12e52",
       "rows": [
        [
         "62",
         "Tokyo",
         "0.0009541984732824427",
         "3784"
        ],
        [
         "91",
         "New York",
         "0.09610802223987291",
         "2770"
        ],
        [
         "43",
         "Nagoya",
         "0.0",
         "1526"
        ],
        [
         "48",
         "Osaka",
         "0.0",
         "1323"
        ],
        [
         "32",
         "London",
         "0.005188067444876783",
         "1230"
        ],
        [
         "158",
         "Seoul",
         "0.0",
         "1083"
        ],
        [
         "49",
         "Paris",
         "0.006224066390041493",
         "871"
        ],
        [
         "34",
         "Madrid",
         "0.039655172413793106",
         "794"
        ],
        [
         "0",
         "Buenos Aires",
         "0.04878048780487805",
         "790"
        ],
        [
         "7",
         "Barcelona",
         "0.06493506493506493",
         "578"
        ],
        [
         "8",
         "Beijing",
         "0.043478260869565216",
         "574"
        ],
        [
         "41",
         "Moscow",
         "0.0037174721189591076",
         "480"
        ],
        [
         "74",
         "Boston",
         "0.00967741935483871",
         "476"
        ],
        [
         "39",
         "Mexico City",
         "0.0",
         "461"
        ],
        [
         "147",
         "Istanbul",
         "0.023529411764705882",
         "428"
        ],
        [
         "176",
         "Shenzhen",
         "0.041666666666666664",
         "428"
        ],
        [
         "90",
         "New Orleans",
         "0.01694915254237288",
         "419"
        ],
        [
         "5",
         "Athens",
         "0.007662835249042145",
         "336"
        ],
        [
         "179",
         "Tianjin",
         "0.04854368932038835",
         "311"
        ],
        [
         "85",
         "Los Angeles",
         "0.001081665765278529",
         "299"
        ],
        [
         "181",
         "Wuhan",
         "0.02702702702702703",
         "297"
        ],
        [
         "183",
         "Zhengzhou",
         "0.07017543859649122",
         "296"
        ],
        [
         "46",
         "New Delhi",
         "0.0",
         "285"
        ],
        [
         "198",
         "Xi'an",
         "0.05405405405405406",
         "280"
        ],
        [
         "40",
         "Milan",
         "0.014925373134328358",
         "279"
        ],
        [
         "38",
         "Melbourne",
         "0.008",
         "278"
        ],
        [
         "57",
         "Singapore",
         "0.0",
         "274"
        ],
        [
         "121",
         "Nantes",
         "0.0033444816053511705",
         "268"
        ],
        [
         "26",
         "Hong Kong",
         "0.0",
         "264"
        ],
        [
         "55",
         "São Paulo",
         "0.08695652173913043",
         "257"
        ],
        [
         "160",
         "Taipei",
         "0.0",
         "254"
        ],
        [
         "28",
         "Kuala Lumpur",
         "0.0",
         "252"
        ],
        [
         "96",
         "Pittsburgh",
         "0.0",
         "249"
        ],
        [
         "97",
         "Portland",
         "0.0",
         "237"
        ],
        [
         "12",
         "Bordeaux",
         "0.0",
         "237"
        ],
        [
         "199",
         "Ningbo",
         "0.0625",
         "201"
        ],
        [
         "45",
         "Naples",
         "0.05454545454545454",
         "188"
        ],
        [
         "37",
         "Marseilles",
         "0.0",
         "187"
        ],
        [
         "128",
         "Grenoble",
         "0.0",
         "183"
        ],
        [
         "87",
         "Minneapolis",
         "0.0",
         "180"
        ],
        [
         "81",
         "Denver",
         "0.0",
         "174"
        ],
        [
         "6",
         "Bangkok",
         "0.0",
         "167"
        ],
        [
         "149",
         "Izmir",
         "0.03225806451612903",
         "158"
        ],
        [
         "154",
         "Eskisehir",
         "0.0",
         "156"
        ],
        [
         "159",
         "Busan",
         "0.0",
         "155"
        ],
        [
         "163",
         "Changsha",
         "0.0",
         "148"
        ],
        [
         "213",
         "Thessaloniki",
         "0.034482758620689655",
         "141"
        ],
        [
         "52",
         "Rome",
         "0.04",
         "121"
        ],
        [
         "64",
         "Vienna",
         "0.0",
         "119"
        ],
        [
         "103",
         "San Diego",
         "0.0",
         "114"
        ]
       ],
       "shape": {
        "columns": 3,
        "rows": 79
       }
      },
      "text/html": [
       "<div>\n",
       "<style scoped>\n",
       "    .dataframe tbody tr th:only-of-type {\n",
       "        vertical-align: middle;\n",
       "    }\n",
       "\n",
       "    .dataframe tbody tr th {\n",
       "        vertical-align: top;\n",
       "    }\n",
       "\n",
       "    .dataframe thead th {\n",
       "        text-align: right;\n",
       "    }\n",
       "</style>\n",
       "<table border=\"1\" class=\"dataframe\">\n",
       "  <thead>\n",
       "    <tr style=\"text-align: right;\">\n",
       "      <th></th>\n",
       "      <th>city</th>\n",
       "      <th>avg_wonkiness</th>\n",
       "      <th>total_stations</th>\n",
       "    </tr>\n",
       "  </thead>\n",
       "  <tbody>\n",
       "    <tr>\n",
       "      <th>62</th>\n",
       "      <td>Tokyo</td>\n",
       "      <td>0.000954</td>\n",
       "      <td>3784</td>\n",
       "    </tr>\n",
       "    <tr>\n",
       "      <th>91</th>\n",
       "      <td>New York</td>\n",
       "      <td>0.096108</td>\n",
       "      <td>2770</td>\n",
       "    </tr>\n",
       "    <tr>\n",
       "      <th>43</th>\n",
       "      <td>Nagoya</td>\n",
       "      <td>0.000000</td>\n",
       "      <td>1526</td>\n",
       "    </tr>\n",
       "    <tr>\n",
       "      <th>48</th>\n",
       "      <td>Osaka</td>\n",
       "      <td>0.000000</td>\n",
       "      <td>1323</td>\n",
       "    </tr>\n",
       "    <tr>\n",
       "      <th>32</th>\n",
       "      <td>London</td>\n",
       "      <td>0.005188</td>\n",
       "      <td>1230</td>\n",
       "    </tr>\n",
       "    <tr>\n",
       "      <th>...</th>\n",
       "      <td>...</td>\n",
       "      <td>...</td>\n",
       "      <td>...</td>\n",
       "    </tr>\n",
       "    <tr>\n",
       "      <th>71</th>\n",
       "      <td>Atlanta</td>\n",
       "      <td>0.000000</td>\n",
       "      <td>73</td>\n",
       "    </tr>\n",
       "    <tr>\n",
       "      <th>146</th>\n",
       "      <td>Doha</td>\n",
       "      <td>0.000000</td>\n",
       "      <td>72</td>\n",
       "    </tr>\n",
       "    <tr>\n",
       "      <th>182</th>\n",
       "      <td>Xiamen</td>\n",
       "      <td>0.000000</td>\n",
       "      <td>71</td>\n",
       "    </tr>\n",
       "    <tr>\n",
       "      <th>14</th>\n",
       "      <td>Bucharest</td>\n",
       "      <td>0.037037</td>\n",
       "      <td>70</td>\n",
       "    </tr>\n",
       "    <tr>\n",
       "      <th>132</th>\n",
       "      <td>Dijon</td>\n",
       "      <td>0.000000</td>\n",
       "      <td>70</td>\n",
       "    </tr>\n",
       "  </tbody>\n",
       "</table>\n",
       "<p>79 rows × 3 columns</p>\n",
       "</div>"
      ],
      "text/plain": [
       "          city  avg_wonkiness  total_stations\n",
       "62       Tokyo       0.000954            3784\n",
       "91    New York       0.096108            2770\n",
       "43      Nagoya       0.000000            1526\n",
       "48       Osaka       0.000000            1323\n",
       "32      London       0.005188            1230\n",
       "..         ...            ...             ...\n",
       "71     Atlanta       0.000000              73\n",
       "146       Doha       0.000000              72\n",
       "182     Xiamen       0.000000              71\n",
       "14   Bucharest       0.037037              70\n",
       "132      Dijon       0.000000              70\n",
       "\n",
       "[79 rows x 3 columns]"
      ]
     },
     "execution_count": 61,
     "metadata": {},
     "output_type": "execute_result"
    }
   ],
   "source": [
    "quality_threshold = 0.1 # 10%\n",
    "quantity_threshold = wonk_table['total_stations'].quantile(0.5)\n",
    "\n",
    "filtered_cities = wonk_table[\n",
    "  (wonk_table['avg_wonkiness'] <= quality_threshold) & \n",
    "  (wonk_table['total_stations'] >= quantity_threshold)\n",
    "  ]\n",
    "print(quality_threshold)\n",
    "print(quantity_threshold)\n",
    "print(filtered_cities.shape)\n",
    "filtered_cities[['city','avg_wonkiness','total_stations']].sort_values('total_stations', ascending=False)"
   ]
  }
 ],
 "metadata": {
  "kernelspec": {
   "display_name": "Python 3",
   "language": "python",
   "name": "python3"
  },
  "language_info": {
   "codemirror_mode": {
    "name": "ipython",
    "version": 3
   },
   "file_extension": ".py",
   "mimetype": "text/x-python",
   "name": "python",
   "nbconvert_exporter": "python",
   "pygments_lexer": "ipython3",
   "version": "3.13.5"
  }
 },
 "nbformat": 4,
 "nbformat_minor": 5
}
