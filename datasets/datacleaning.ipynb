{
 "cells": [
  {
   "cell_type": "code",
   "execution_count": 137,
   "id": "37e860ad",
   "metadata": {},
   "outputs": [],
   "source": [
    "import pandas as pd\n",
    "import numpy as np\n",
    "# Data intake\n",
    "cities = pd.read_csv(\"datasets/cities.csv\")\n",
    "stations = pd.read_csv(\"datasets/stations.csv\")\n",
    "tracks = pd.read_csv(\"datasets/tracks.csv\")\n",
    "lines = pd.read_csv(\"datasets/lines.csv\")\n",
    "track_lines = pd.read_csv(\"datasets/track_lines.csv\")\n",
    "station_lines = pd.read_csv(\"datasets/station_lines.csv\")\n",
    "systems = pd.read_csv(\"datasets/systems.csv\")\n",
    "modes = pd.read_csv(\"datasets/modes.csv\")"
   ]
  },
  {
   "cell_type": "code",
   "execution_count": 138,
   "id": "c2b002fa",
   "metadata": {},
   "outputs": [],
   "source": [
    "# Select and rename columns needed for merging in one go\n",
    "cities_info = cities[['id', 'country', 'name']].rename(\n",
    "    columns={'id': 'city_id', 'name': 'city'})\n",
    "lines_info = lines[['id', 'name', 'color', 'system_id', 'transport_mode_id']].rename(\n",
    "    columns={'id': 'line_id', 'name': 'line_name', 'color': 'line_color'})\n",
    "systems_info = systems[['id', 'name']].rename(\n",
    "    columns={'id': 'system_id', 'name': 'system_name'})\n",
    "track_lines_info = track_lines[['section_id', 'line_id', 'fromyear', 'toyear']]\n",
    "station_lines_info = station_lines[[\n",
    "    'station_id', 'line_id', 'fromyear', 'toyear']]"
   ]
  },
  {
   "cell_type": "code",
   "execution_count": 139,
   "id": "0bafcd82",
   "metadata": {},
   "outputs": [],
   "source": [
    "# get mode for each line from modes and then merge\n",
    "modes_info = modes[['id', 'name']].rename(\n",
    "    columns={'id': 'transport_mode_id', 'name': 'transport_mode_name'})\n",
    "modes_info['transport_mode_name'] = modes_info['transport_mode_name'].replace(\n",
    "    'default', 'Unspecified')\n",
    "modes_info['transport_mode_name'] = modes_info['transport_mode_name'].str.replace(\n",
    "    '_', ' ')\n",
    "modes_info['transport_mode_name'] = modes_info['transport_mode_name'].str.title()\n",
    "modes_info['transport_mode_name'] = modes_info['transport_mode_name'].replace(\n",
    "    'Brt', 'BRT')\n",
    "\n",
    "lines_info = lines_info.merge(modes_info, on='transport_mode_id', how='left')"
   ]
  },
  {
   "cell_type": "code",
   "execution_count": 140,
   "id": "b5980510",
   "metadata": {},
   "outputs": [
    {
     "name": "stdout",
     "output_type": "stream",
     "text": [
      "(44897, 19)\n",
      "(36846, 19)\n"
     ]
    }
   ],
   "source": [
    "# --- Process STATIONS ---\n",
    "stations = stations.rename(\n",
    "    columns={'id': 'station_id', 'name': 'station_name'})\n",
    "\n",
    "# Merge\n",
    "stations = (stations\n",
    "            .merge(cities_info, on='city_id', how='left')\n",
    "            .merge(station_lines_info, on='station_id', how='left')\n",
    "            .merge(lines_info, on='line_id', how='left')\n",
    "            .merge(systems_info, on='system_id', how='left')\n",
    "            )\n",
    "\n",
    "# Extract coordinates\n",
    "stations['longitude'] = stations['geometry'].str.extract(\n",
    "    r'POINT\\(([^ ]+) [^)]+\\)')[0].astype(float)\n",
    "stations['latitude'] = stations['geometry'].str.extract(\n",
    "    r'POINT\\([^ ]+ ([^)]+)\\)')[0].astype(float)\n",
    "\n",
    "station_cols = ['station_id', 'station_name', 'geometry', 'longitude', 'latitude',\n",
    "                'opening', 'closure', 'city_id', 'city', 'country',\n",
    "                'line_id', 'line_name', 'line_color', 'system_id', 'system_name',\n",
    "                'transport_mode_id', 'transport_mode_name', 'fromyear', 'toyear']\n",
    "stations = stations[station_cols]\n",
    "\n",
    "# deduplicate rows by station_id\n",
    "print(stations.shape)\n",
    "stations = stations.drop_duplicates(subset=['station_id'])   \n",
    "print(stations.shape)\n"
   ]
  },
  {
   "cell_type": "code",
   "execution_count": 141,
   "id": "ec9c5efd",
   "metadata": {},
   "outputs": [
    {
     "name": "stdout",
     "output_type": "stream",
     "text": [
      "(35534, 17)\n",
      "(35534, 17)\n"
     ]
    }
   ],
   "source": [
    "# --- Process TRACKS ---\n",
    "tracks = tracks.rename(columns={'id': 'section_id'})\n",
    "\n",
    "# Merge\n",
    "tracks = (tracks\n",
    "          .merge(cities_info, on='city_id', how='left')\n",
    "          .merge(track_lines_info, on='section_id', how='left')\n",
    "          .merge(lines_info, on='line_id', how='left')\n",
    "          .merge(systems_info, on='system_id', how='left')\n",
    "          )\n",
    "\n",
    "track_cols = ['section_id', 'geometry', 'opening', 'closure', 'length',\n",
    "              'line_id', 'line_name', 'line_color', 'system_id', 'system_name',\n",
    "              'city_id', 'city', 'country', 'transport_mode_id', 'transport_mode_name', 'fromyear', 'toyear']\n",
    "tracks = tracks[track_cols]\n",
    "\n",
    "# deduplicate rows by section_id, line_id, system_id\n",
    "print(tracks.shape)\n",
    "tracks = tracks.drop_duplicates(subset=['section_id', 'line_id'])\n",
    "print(tracks.shape)"
   ]
  },
  {
   "cell_type": "code",
   "execution_count": 142,
   "id": "5bacb537",
   "metadata": {},
   "outputs": [
    {
     "data": {
      "application/vnd.microsoft.datawrangler.viewer.v0+json": {
       "columns": [
        {
         "name": "transport_mode_name",
         "rawType": "object",
         "type": "string"
        },
        {
         "name": "count",
         "rawType": "int64",
         "type": "integer"
        }
       ],
       "ref": "fe50f456-5eef-4cba-9642-a8e8cedd35ef",
       "rows": [
        [
         "Heavy Rail",
         "18597"
        ],
        [
         "Commuter Rail",
         "5509"
        ],
        [
         "Light Rail",
         "5248"
        ],
        [
         "Unspecified",
         "2256"
        ],
        [
         "Tram",
         "1906"
        ],
        [
         "BRT",
         "1445"
        ],
        [
         "Inter City Rail",
         "482"
        ],
        [
         "People Mover",
         "440"
        ],
        [
         "Bus",
         "108"
        ],
        [
         "High Speed Rail",
         "59"
        ],
        [
         "Ferry",
         "45"
        ]
       ],
       "shape": {
        "columns": 1,
        "rows": 11
       }
      },
      "text/plain": [
       "transport_mode_name\n",
       "Heavy Rail         18597\n",
       "Commuter Rail       5509\n",
       "Light Rail          5248\n",
       "Unspecified         2256\n",
       "Tram                1906\n",
       "BRT                 1445\n",
       "Inter City Rail      482\n",
       "People Mover         440\n",
       "Bus                  108\n",
       "High Speed Rail       59\n",
       "Ferry                 45\n",
       "Name: count, dtype: int64"
      ]
     },
     "execution_count": 142,
     "metadata": {},
     "output_type": "execute_result"
    }
   ],
   "source": [
    "stations.transport_mode_name.value_counts()"
   ]
  },
  {
   "cell_type": "code",
   "execution_count": 143,
   "id": "5e9623a9",
   "metadata": {},
   "outputs": [],
   "source": [
    "# --- Handle modal filter ---\n",
    "\n",
    "# Filter out Bus and Ferry\n",
    "desel_modes = ['Bus', 'Ferry']\n",
    "stations = stations[~stations['transport_mode_name'].isin(desel_modes)]\n",
    "tracks = tracks[~tracks['transport_mode_name'].isin(desel_modes)]"
   ]
  },
  {
   "cell_type": "code",
   "execution_count": 144,
   "id": "eec8211a",
   "metadata": {},
   "outputs": [],
   "source": [
    "\n",
    "# --- Handle name missing data ---\n",
    "\n",
    "# Fill in NA\n",
    "stations['station_name'] = stations['station_name'].fillna('')\n",
    "stations['line_name'] = stations['line_name'].fillna('')\n",
    "stations['line_color'] = stations['line_color'].fillna('#000000')\n",
    "tracks['line_name'] = tracks['line_name'].fillna('')\n",
    "tracks['line_color'] = tracks['line_color'].fillna('#000000')\n",
    "stations['line_id'] = stations['line_id'].fillna(0)\n",
    "tracks['line_id'] = tracks['line_id'].fillna(0)\n",
    "\n",
    "# --- Handle opening and closure date missing data ---\n",
    "stations.loc[stations['closure'] == 999999, 'closure'] = pd.NA\n",
    "tracks.loc[tracks['closure'] == 999999, 'closure'] = pd.NA\n",
    "# Handle Opening Dates, impute missing data based on minimum known opening year for each city\n",
    "stations['opening'] = pd.to_numeric(stations['opening'], errors='coerce')\n",
    "tracks['opening'] = pd.to_numeric(tracks['opening'], errors='coerce')\n",
    "stations.loc[stations['opening'] == 0, 'opening'] = pd.NA\n",
    "tracks.loc[tracks['opening'] == 0, 'opening'] = pd.NA\n",
    "stations['opening'] = stations['opening'].astype('Int64')\n",
    "tracks['opening'] = tracks['opening'].astype('Int64')\n",
    "# Flag rows still missing opening date\n",
    "stations['was_missing_opening'] = stations['opening'].isna()\n",
    "tracks['was_missing_opening'] = tracks['opening'].isna()"
   ]
  },
  {
   "cell_type": "code",
   "execution_count": 145,
   "id": "7fe721d7",
   "metadata": {},
   "outputs": [],
   "source": [
    "# ... (wonkiness calculation) ...\n",
    "# Calculate proportion of missing/imputed opening dates per city\n",
    "pivot_st = pd.pivot_table(stations, values='station_id', index='city_id',\n",
    "                          columns='was_missing_opening', aggfunc='count', fill_value=0)\n",
    "pivot_tr = pd.pivot_table(tracks, values='section_id', index='city_id',\n",
    "                          columns='was_missing_opening', aggfunc='count', fill_value=0)\n",
    "\n",
    "pivot_st = pivot_st.rename(columns={True: 'missing', False: 'valid'})\n",
    "pivot_tr = pivot_tr.rename(columns={True: 'missing', False: 'valid'})\n",
    "if 'missing' not in pivot_st.columns:\n",
    "    pivot_st['missing'] = 0\n",
    "if 'valid' not in pivot_st.columns:\n",
    "    pivot_st['valid'] = 0\n",
    "if 'missing' not in pivot_tr.columns:\n",
    "    pivot_tr['missing'] = 0\n",
    "if 'valid' not in pivot_tr.columns:\n",
    "    pivot_tr['valid'] = 0\n",
    "\n",
    "# Calculate the \"wonkiness\" score 9missing dates) then merge for filtering\n",
    "pivot_st['wonkiness_st'] = pivot_st['missing'] / \\\n",
    "    (pivot_st['valid'] + pivot_st['missing'])\n",
    "pivot_tr['wonkiness_tr'] = pivot_tr['missing'] / \\\n",
    "    (pivot_tr['valid'] + pivot_tr['missing'])\n",
    "wonk_table = pd.merge(pivot_st[['valid', 'missing', 'wonkiness_st']],\n",
    "                      pivot_tr[['valid', 'missing', 'wonkiness_tr']],\n",
    "                      on='city_id', suffixes=('_st', '_tr'))\n",
    "\n",
    "wonk_table = wonk_table.merge(\n",
    "    cities_info[['city_id', 'city', 'country']], on='city_id', how='left')\n",
    "wonk_table['total_stations'] = wonk_table['valid_st'] + \\\n",
    "    wonk_table['missing_st']\n",
    "wonk_table['total_tracks'] = wonk_table['valid_tr'] + wonk_table['missing_tr']\n",
    "\n",
    "# wonk based on tracks only\n",
    "wonk_table['avg_wonkiness'] = wonk_table['wonkiness_tr']"
   ]
  },
  {
   "cell_type": "code",
   "execution_count": 146,
   "id": "fa081227",
   "metadata": {},
   "outputs": [],
   "source": [
    "# --- Extract LineString coordinates from WKT strings ---\n",
    "import re\n",
    "\n",
    "\n",
    "def parse_linestring_coords(wkt_string, swap_order=False, precision=6):\n",
    "    if not isinstance(wkt_string, str):\n",
    "        return None\n",
    "\n",
    "    # Regular expression to find all coordinate pairs (lon lat)\n",
    "    coord_pattern = re.compile(r\"(-?\\d+\\.?\\d*)\\s+(-?\\d+\\.?\\d*)\")\n",
    "    matches = coord_pattern.findall(wkt_string)\n",
    "    if not matches:\n",
    "        return None\n",
    "\n",
    "    coord_list = []\n",
    "    for lon_str, lat_str in matches:\n",
    "        try:\n",
    "            lon = round(float(lon_str), precision)\n",
    "            lat = round(float(lat_str), precision)\n",
    "            if swap_order:\n",
    "                coord_list.append([lat, lon])  # Append as [lat, lon]\n",
    "            else:\n",
    "                coord_list.append([lon, lat])  # Append as [lon, lat]\n",
    "        except ValueError:\n",
    "            print(\n",
    "                f\"WARN: Could not parse coordinate pair: ('{lon_str}', '{lat_str}') in '{wkt_string}'\")\n",
    "            continue\n",
    "\n",
    "    return coord_list if coord_list else None\n",
    "\n",
    "\n",
    "tracks['linestring_lonlat'] = tracks['geometry'].apply(\n",
    "    lambda x: parse_linestring_coords(x, swap_order=False)\n",
    ")  # to be used for export\n",
    "tracks['linestring_latlon'] = tracks['geometry'].apply(\n",
    "    lambda x: parse_linestring_coords(x, swap_order=True)\n",
    ")  # to be used for map plotting dl"
   ]
  },
  {
   "cell_type": "code",
   "execution_count": 148,
   "id": "89e1e1dd",
   "metadata": {},
   "outputs": [],
   "source": [
    "import pandas as pd\n",
    "import numpy as np\n",
    "\n",
    "def canonicalize_years(df):\n",
    "    year_cols = ['opening', 'closure', 'fromyear', 'toyear']\n",
    "\n",
    "    # Convert potentially present year columns to numeric, errors become NaN\n",
    "    for col in year_cols:\n",
    "        if col in df.columns:\n",
    "            df[col] = pd.to_numeric(df[col], errors='coerce')\n",
    "\n",
    "    # Prioritize 'fromyear' for 'opening'\n",
    "    if 'fromyear' in df.columns:\n",
    "        if 'opening' in df.columns:\n",
    "            df['opening'] = df['fromyear'].combine_first(df['opening'])\n",
    "        else:\n",
    "            df['opening'] = df['fromyear']\n",
    "\n",
    "    # Prioritize 'toyear' for 'closure'\n",
    "    if 'toyear' in df.columns:\n",
    "        if 'closure' in df.columns:\n",
    "            df['closure'] = df['toyear'].combine_first(df['closure'])\n",
    "        else:\n",
    "            df['closure'] = df['toyear']\n",
    "\n",
    "    if 'opening' in df.columns:\n",
    "        df.loc[df['opening'] <= 0, 'opening'] = np.nan\n",
    "    if 'closure' in df.columns:\n",
    "        df.loc[df['closure'] <= 0, 'closure'] = np.nan\n",
    "\n",
    "    return df\n",
    "\n",
    "\n",
    "# Apply the function\n",
    "stations = canonicalize_years(stations.copy()) \n",
    "tracks = canonicalize_years(tracks.copy())"
   ]
  },
  {
   "cell_type": "code",
   "execution_count": 149,
   "id": "330e172c",
   "metadata": {},
   "outputs": [],
   "source": [
    "# export\n",
    "stations.to_csv(\n",
    "    \"stations_cleaned.csv\",\n",
    "    index=False,\n",
    "    encoding='utf-8',\n",
    ")\n",
    "tracks.to_csv(\n",
    "    \"tracks_cleaned.csv\",\n",
    "    index=False,\n",
    "    encoding='utf-8',\n",
    ")\n",
    "wonk_table.to_csv(\n",
    "    \"cities_cleaned.csv\",\n",
    "    index=True,\n",
    "    encoding='utf-8',\n",
    ")"
   ]
  },
  {
   "cell_type": "code",
   "execution_count": 150,
   "id": "cd893dda",
   "metadata": {},
   "outputs": [
    {
     "name": "stdout",
     "output_type": "stream",
     "text": [
      "0.1\n",
      "100\n",
      "(48, 12)\n"
     ]
    },
    {
     "data": {
      "application/vnd.microsoft.datawrangler.viewer.v0+json": {
       "columns": [
        {
         "name": "index",
         "rawType": "int64",
         "type": "integer"
        },
        {
         "name": "city",
         "rawType": "object",
         "type": "string"
        },
        {
         "name": "avg_wonkiness",
         "rawType": "float64",
         "type": "float"
        },
        {
         "name": "total_stations",
         "rawType": "int64",
         "type": "integer"
        }
       ],
       "ref": "1ea1dc21-102d-4c0a-9d8f-a19b780f5e0f",
       "rows": [
        [
         "63",
         "Tokyo",
         "0.0008968609865470852",
         "3715"
        ],
        [
         "93",
         "New York",
         "0.09603174603174604",
         "1339"
        ],
        [
         "49",
         "Osaka",
         "0.0",
         "1333"
        ],
        [
         "33",
         "London",
         "0.007909604519774011",
         "907"
        ],
        [
         "161",
         "Seoul",
         "0.0",
         "876"
        ],
        [
         "50",
         "Paris",
         "0.008213552361396304",
         "827"
        ],
        [
         "0",
         "Buenos Aires",
         "0.019417475728155338",
         "793"
        ],
        [
         "44",
         "Nagoya",
         "0.004246284501061571",
         "787"
        ],
        [
         "8",
         "Beijing",
         "0.0",
         "572"
        ],
        [
         "35",
         "Madrid",
         "0.041666666666666664",
         "560"
        ],
        [
         "40",
         "Mexico City",
         "0.0",
         "467"
        ],
        [
         "42",
         "Moscow",
         "0.007407407407407408",
         "463"
        ],
        [
         "180",
         "Shenzhen",
         "0.04132231404958678",
         "440"
        ],
        [
         "7",
         "Barcelona",
         "0.04484304932735426",
         "440"
        ],
        [
         "75",
         "Boston",
         "0.01282051282051282",
         "396"
        ],
        [
         "150",
         "Istanbul",
         "0.023529411764705882",
         "375"
        ],
        [
         "92",
         "New Orleans",
         "0.01694915254237288",
         "351"
        ],
        [
         "185",
         "Wuhan",
         "0.02702702702702703",
         "308"
        ],
        [
         "183",
         "Tianjin",
         "0.04854368932038835",
         "303"
        ],
        [
         "98",
         "Pittsburgh",
         "0.011461318051575931",
         "296"
        ],
        [
         "39",
         "Melbourne",
         "0.02197802197802198",
         "294"
        ],
        [
         "47",
         "New Delhi",
         "0.0",
         "287"
        ],
        [
         "58",
         "Singapore",
         "0.01639344262295082",
         "286"
        ],
        [
         "202",
         "Xi'an",
         "0.1",
         "275"
        ],
        [
         "87",
         "Los Angeles",
         "0.013881473571809931",
         "270"
        ],
        [
         "41",
         "Milan",
         "0.08333333333333333",
         "254"
        ],
        [
         "5",
         "Athens",
         "0.001841620626151013",
         "246"
        ],
        [
         "27",
         "Hong Kong",
         "0.0",
         "244"
        ],
        [
         "163",
         "Taipei",
         "0.0",
         "243"
        ],
        [
         "29",
         "Kuala Lumpur",
         "0.0",
         "239"
        ],
        [
         "12",
         "Bordeaux",
         "0.0",
         "237"
        ],
        [
         "56",
         "São Paulo",
         "0.07042253521126761",
         "237"
        ],
        [
         "6",
         "Bangkok",
         "0.0",
         "222"
        ],
        [
         "203",
         "Ningbo",
         "0.0625",
         "201"
        ],
        [
         "46",
         "Naples",
         "0.05454545454545454",
         "183"
        ],
        [
         "99",
         "Portland",
         "0.0",
         "170"
        ],
        [
         "131",
         "Grenoble",
         "0.013422818791946308",
         "169"
        ],
        [
         "89",
         "Minneapolis",
         "0.0",
         "161"
        ],
        [
         "162",
         "Busan",
         "0.0",
         "160"
        ],
        [
         "167",
         "Changsha",
         "0.0",
         "149"
        ],
        [
         "38",
         "Marseilles",
         "0.0",
         "145"
        ],
        [
         "152",
         "Izmir",
         "0.0625",
         "131"
        ],
        [
         "53",
         "Rome",
         "0.04",
         "121"
        ],
        [
         "176",
         "Kunming",
         "0.024390243902439025",
         "115"
        ],
        [
         "217",
         "Thessaloniki",
         "0.034482758620689655",
         "113"
        ],
        [
         "228",
         "Poznań",
         "0.07608695652173914",
         "105"
        ],
        [
         "65",
         "Vienna",
         "0.0",
         "102"
        ],
        [
         "169",
         "Dalian",
         "0.0",
         "100"
        ]
       ],
       "shape": {
        "columns": 3,
        "rows": 48
       }
      },
      "text/html": [
       "<div>\n",
       "<style scoped>\n",
       "    .dataframe tbody tr th:only-of-type {\n",
       "        vertical-align: middle;\n",
       "    }\n",
       "\n",
       "    .dataframe tbody tr th {\n",
       "        vertical-align: top;\n",
       "    }\n",
       "\n",
       "    .dataframe thead th {\n",
       "        text-align: right;\n",
       "    }\n",
       "</style>\n",
       "<table border=\"1\" class=\"dataframe\">\n",
       "  <thead>\n",
       "    <tr style=\"text-align: right;\">\n",
       "      <th></th>\n",
       "      <th>city</th>\n",
       "      <th>avg_wonkiness</th>\n",
       "      <th>total_stations</th>\n",
       "    </tr>\n",
       "  </thead>\n",
       "  <tbody>\n",
       "    <tr>\n",
       "      <th>63</th>\n",
       "      <td>Tokyo</td>\n",
       "      <td>0.000897</td>\n",
       "      <td>3715</td>\n",
       "    </tr>\n",
       "    <tr>\n",
       "      <th>93</th>\n",
       "      <td>New York</td>\n",
       "      <td>0.096032</td>\n",
       "      <td>1339</td>\n",
       "    </tr>\n",
       "    <tr>\n",
       "      <th>49</th>\n",
       "      <td>Osaka</td>\n",
       "      <td>0.000000</td>\n",
       "      <td>1333</td>\n",
       "    </tr>\n",
       "    <tr>\n",
       "      <th>33</th>\n",
       "      <td>London</td>\n",
       "      <td>0.007910</td>\n",
       "      <td>907</td>\n",
       "    </tr>\n",
       "    <tr>\n",
       "      <th>161</th>\n",
       "      <td>Seoul</td>\n",
       "      <td>0.000000</td>\n",
       "      <td>876</td>\n",
       "    </tr>\n",
       "    <tr>\n",
       "      <th>50</th>\n",
       "      <td>Paris</td>\n",
       "      <td>0.008214</td>\n",
       "      <td>827</td>\n",
       "    </tr>\n",
       "    <tr>\n",
       "      <th>0</th>\n",
       "      <td>Buenos Aires</td>\n",
       "      <td>0.019417</td>\n",
       "      <td>793</td>\n",
       "    </tr>\n",
       "    <tr>\n",
       "      <th>44</th>\n",
       "      <td>Nagoya</td>\n",
       "      <td>0.004246</td>\n",
       "      <td>787</td>\n",
       "    </tr>\n",
       "    <tr>\n",
       "      <th>8</th>\n",
       "      <td>Beijing</td>\n",
       "      <td>0.000000</td>\n",
       "      <td>572</td>\n",
       "    </tr>\n",
       "    <tr>\n",
       "      <th>35</th>\n",
       "      <td>Madrid</td>\n",
       "      <td>0.041667</td>\n",
       "      <td>560</td>\n",
       "    </tr>\n",
       "    <tr>\n",
       "      <th>40</th>\n",
       "      <td>Mexico City</td>\n",
       "      <td>0.000000</td>\n",
       "      <td>467</td>\n",
       "    </tr>\n",
       "    <tr>\n",
       "      <th>42</th>\n",
       "      <td>Moscow</td>\n",
       "      <td>0.007407</td>\n",
       "      <td>463</td>\n",
       "    </tr>\n",
       "    <tr>\n",
       "      <th>180</th>\n",
       "      <td>Shenzhen</td>\n",
       "      <td>0.041322</td>\n",
       "      <td>440</td>\n",
       "    </tr>\n",
       "    <tr>\n",
       "      <th>7</th>\n",
       "      <td>Barcelona</td>\n",
       "      <td>0.044843</td>\n",
       "      <td>440</td>\n",
       "    </tr>\n",
       "    <tr>\n",
       "      <th>75</th>\n",
       "      <td>Boston</td>\n",
       "      <td>0.012821</td>\n",
       "      <td>396</td>\n",
       "    </tr>\n",
       "    <tr>\n",
       "      <th>150</th>\n",
       "      <td>Istanbul</td>\n",
       "      <td>0.023529</td>\n",
       "      <td>375</td>\n",
       "    </tr>\n",
       "    <tr>\n",
       "      <th>92</th>\n",
       "      <td>New Orleans</td>\n",
       "      <td>0.016949</td>\n",
       "      <td>351</td>\n",
       "    </tr>\n",
       "    <tr>\n",
       "      <th>185</th>\n",
       "      <td>Wuhan</td>\n",
       "      <td>0.027027</td>\n",
       "      <td>308</td>\n",
       "    </tr>\n",
       "    <tr>\n",
       "      <th>183</th>\n",
       "      <td>Tianjin</td>\n",
       "      <td>0.048544</td>\n",
       "      <td>303</td>\n",
       "    </tr>\n",
       "    <tr>\n",
       "      <th>98</th>\n",
       "      <td>Pittsburgh</td>\n",
       "      <td>0.011461</td>\n",
       "      <td>296</td>\n",
       "    </tr>\n",
       "    <tr>\n",
       "      <th>39</th>\n",
       "      <td>Melbourne</td>\n",
       "      <td>0.021978</td>\n",
       "      <td>294</td>\n",
       "    </tr>\n",
       "    <tr>\n",
       "      <th>47</th>\n",
       "      <td>New Delhi</td>\n",
       "      <td>0.000000</td>\n",
       "      <td>287</td>\n",
       "    </tr>\n",
       "    <tr>\n",
       "      <th>58</th>\n",
       "      <td>Singapore</td>\n",
       "      <td>0.016393</td>\n",
       "      <td>286</td>\n",
       "    </tr>\n",
       "    <tr>\n",
       "      <th>202</th>\n",
       "      <td>Xi'an</td>\n",
       "      <td>0.100000</td>\n",
       "      <td>275</td>\n",
       "    </tr>\n",
       "    <tr>\n",
       "      <th>87</th>\n",
       "      <td>Los Angeles</td>\n",
       "      <td>0.013881</td>\n",
       "      <td>270</td>\n",
       "    </tr>\n",
       "    <tr>\n",
       "      <th>41</th>\n",
       "      <td>Milan</td>\n",
       "      <td>0.083333</td>\n",
       "      <td>254</td>\n",
       "    </tr>\n",
       "    <tr>\n",
       "      <th>5</th>\n",
       "      <td>Athens</td>\n",
       "      <td>0.001842</td>\n",
       "      <td>246</td>\n",
       "    </tr>\n",
       "    <tr>\n",
       "      <th>27</th>\n",
       "      <td>Hong Kong</td>\n",
       "      <td>0.000000</td>\n",
       "      <td>244</td>\n",
       "    </tr>\n",
       "    <tr>\n",
       "      <th>163</th>\n",
       "      <td>Taipei</td>\n",
       "      <td>0.000000</td>\n",
       "      <td>243</td>\n",
       "    </tr>\n",
       "    <tr>\n",
       "      <th>29</th>\n",
       "      <td>Kuala Lumpur</td>\n",
       "      <td>0.000000</td>\n",
       "      <td>239</td>\n",
       "    </tr>\n",
       "    <tr>\n",
       "      <th>12</th>\n",
       "      <td>Bordeaux</td>\n",
       "      <td>0.000000</td>\n",
       "      <td>237</td>\n",
       "    </tr>\n",
       "    <tr>\n",
       "      <th>56</th>\n",
       "      <td>São Paulo</td>\n",
       "      <td>0.070423</td>\n",
       "      <td>237</td>\n",
       "    </tr>\n",
       "    <tr>\n",
       "      <th>6</th>\n",
       "      <td>Bangkok</td>\n",
       "      <td>0.000000</td>\n",
       "      <td>222</td>\n",
       "    </tr>\n",
       "    <tr>\n",
       "      <th>203</th>\n",
       "      <td>Ningbo</td>\n",
       "      <td>0.062500</td>\n",
       "      <td>201</td>\n",
       "    </tr>\n",
       "    <tr>\n",
       "      <th>46</th>\n",
       "      <td>Naples</td>\n",
       "      <td>0.054545</td>\n",
       "      <td>183</td>\n",
       "    </tr>\n",
       "    <tr>\n",
       "      <th>99</th>\n",
       "      <td>Portland</td>\n",
       "      <td>0.000000</td>\n",
       "      <td>170</td>\n",
       "    </tr>\n",
       "    <tr>\n",
       "      <th>131</th>\n",
       "      <td>Grenoble</td>\n",
       "      <td>0.013423</td>\n",
       "      <td>169</td>\n",
       "    </tr>\n",
       "    <tr>\n",
       "      <th>89</th>\n",
       "      <td>Minneapolis</td>\n",
       "      <td>0.000000</td>\n",
       "      <td>161</td>\n",
       "    </tr>\n",
       "    <tr>\n",
       "      <th>162</th>\n",
       "      <td>Busan</td>\n",
       "      <td>0.000000</td>\n",
       "      <td>160</td>\n",
       "    </tr>\n",
       "    <tr>\n",
       "      <th>167</th>\n",
       "      <td>Changsha</td>\n",
       "      <td>0.000000</td>\n",
       "      <td>149</td>\n",
       "    </tr>\n",
       "    <tr>\n",
       "      <th>38</th>\n",
       "      <td>Marseilles</td>\n",
       "      <td>0.000000</td>\n",
       "      <td>145</td>\n",
       "    </tr>\n",
       "    <tr>\n",
       "      <th>152</th>\n",
       "      <td>Izmir</td>\n",
       "      <td>0.062500</td>\n",
       "      <td>131</td>\n",
       "    </tr>\n",
       "    <tr>\n",
       "      <th>53</th>\n",
       "      <td>Rome</td>\n",
       "      <td>0.040000</td>\n",
       "      <td>121</td>\n",
       "    </tr>\n",
       "    <tr>\n",
       "      <th>176</th>\n",
       "      <td>Kunming</td>\n",
       "      <td>0.024390</td>\n",
       "      <td>115</td>\n",
       "    </tr>\n",
       "    <tr>\n",
       "      <th>217</th>\n",
       "      <td>Thessaloniki</td>\n",
       "      <td>0.034483</td>\n",
       "      <td>113</td>\n",
       "    </tr>\n",
       "    <tr>\n",
       "      <th>228</th>\n",
       "      <td>Poznań</td>\n",
       "      <td>0.076087</td>\n",
       "      <td>105</td>\n",
       "    </tr>\n",
       "    <tr>\n",
       "      <th>65</th>\n",
       "      <td>Vienna</td>\n",
       "      <td>0.000000</td>\n",
       "      <td>102</td>\n",
       "    </tr>\n",
       "    <tr>\n",
       "      <th>169</th>\n",
       "      <td>Dalian</td>\n",
       "      <td>0.000000</td>\n",
       "      <td>100</td>\n",
       "    </tr>\n",
       "  </tbody>\n",
       "</table>\n",
       "</div>"
      ],
      "text/plain": [
       "             city  avg_wonkiness  total_stations\n",
       "63          Tokyo       0.000897            3715\n",
       "93       New York       0.096032            1339\n",
       "49          Osaka       0.000000            1333\n",
       "33         London       0.007910             907\n",
       "161         Seoul       0.000000             876\n",
       "50          Paris       0.008214             827\n",
       "0    Buenos Aires       0.019417             793\n",
       "44         Nagoya       0.004246             787\n",
       "8         Beijing       0.000000             572\n",
       "35         Madrid       0.041667             560\n",
       "40    Mexico City       0.000000             467\n",
       "42         Moscow       0.007407             463\n",
       "180      Shenzhen       0.041322             440\n",
       "7       Barcelona       0.044843             440\n",
       "75         Boston       0.012821             396\n",
       "150      Istanbul       0.023529             375\n",
       "92    New Orleans       0.016949             351\n",
       "185         Wuhan       0.027027             308\n",
       "183       Tianjin       0.048544             303\n",
       "98     Pittsburgh       0.011461             296\n",
       "39      Melbourne       0.021978             294\n",
       "47      New Delhi       0.000000             287\n",
       "58      Singapore       0.016393             286\n",
       "202         Xi'an       0.100000             275\n",
       "87    Los Angeles       0.013881             270\n",
       "41          Milan       0.083333             254\n",
       "5          Athens       0.001842             246\n",
       "27      Hong Kong       0.000000             244\n",
       "163        Taipei       0.000000             243\n",
       "29   Kuala Lumpur       0.000000             239\n",
       "12       Bordeaux       0.000000             237\n",
       "56      São Paulo       0.070423             237\n",
       "6         Bangkok       0.000000             222\n",
       "203        Ningbo       0.062500             201\n",
       "46         Naples       0.054545             183\n",
       "99       Portland       0.000000             170\n",
       "131      Grenoble       0.013423             169\n",
       "89    Minneapolis       0.000000             161\n",
       "162         Busan       0.000000             160\n",
       "167      Changsha       0.000000             149\n",
       "38     Marseilles       0.000000             145\n",
       "152         Izmir       0.062500             131\n",
       "53           Rome       0.040000             121\n",
       "176       Kunming       0.024390             115\n",
       "217  Thessaloniki       0.034483             113\n",
       "228        Poznań       0.076087             105\n",
       "65         Vienna       0.000000             102\n",
       "169        Dalian       0.000000             100"
      ]
     },
     "execution_count": 150,
     "metadata": {},
     "output_type": "execute_result"
    }
   ],
   "source": [
    "quality_threshold = 0.1  # 10%\n",
    "quantity_threshold = 100\n",
    "\n",
    "filtered_cities = wonk_table[\n",
    "    (wonk_table['avg_wonkiness'] <= quality_threshold) &\n",
    "    (wonk_table['total_stations'] >= quantity_threshold)\n",
    "]\n",
    "print(quality_threshold)\n",
    "print(quantity_threshold)\n",
    "print(filtered_cities.shape)\n",
    "filtered_cities[['city', 'avg_wonkiness', 'total_stations']\n",
    "                ].sort_values('total_stations', ascending=False)"
   ]
  }
 ],
 "metadata": {
  "kernelspec": {
   "display_name": "Python 3",
   "language": "python",
   "name": "python3"
  },
  "language_info": {
   "codemirror_mode": {
    "name": "ipython",
    "version": 3
   },
   "file_extension": ".py",
   "mimetype": "text/x-python",
   "name": "python",
   "nbconvert_exporter": "python",
   "pygments_lexer": "ipython3",
   "version": "3.13.5"
  }
 },
 "nbformat": 4,
 "nbformat_minor": 5
}
