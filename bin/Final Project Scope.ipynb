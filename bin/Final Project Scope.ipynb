{
 "cells": [
  {
   "cell_type": "markdown",
   "metadata": {
    "id": "-yP1FfctfejW"
   },
   "source": [
    "# Final Project Selection\n",
    "\n",
    "## Brief introduction\n",
    "- **Scope:** \n",
    "A map-based visualization application that allows users to visualize the growth of one or more chosen transit systems over time with a year slider, which can then be exported into .kml files\n",
    "- **Motivation:** \n",
    "I have been interested in metro systems around the world, especially in the history and also creating maps/diagrams for them. This project is a way for me to get hands-on with that using Python and Python libraries.\n",
    "\n",
    "## Deliverable scope\n",
    "\n",
    "**MVP for the final project:** \n",
    "   1. Limited to systems in One country only (Japan or US or Brazil or Spain)\n",
    "   2. User chooses a City / System from dropdown menus and the year.\n",
    "   3. A map is shown with chosen system with its tracks/stations mapped out in the chosen year\n",
    "   4. Displays overview information (# stations, track lengths). \n",
    "\n",
    "**Desired functionalities for the final project:** \n",
    "   1. User can use the slider to change to any desired year\n",
    "   2. Interactive map where the user can click on the stations/lines to get more details about the station and the line \n",
    "   3. Export into a .kml file to use on other map engines like Google Maps Engine\n",
    "---\n",
    "**(Optional)** some ideas either for the final project if capability allows or after\n",
    "   1. Covers the whole world, not just one country\n",
    "   3. Build into a simple webapp\n",
    "\n",
    "## Data Sources\n",
    "- Datasets acquired from Kaggle: \"Transit systems of the world\" https://www.kaggle.com/citylines/city-lines. It contains 7 csv files with relational datasets\n",
    "\n",
    "## Dependencies/Risks\n",
    "- There might be complications in cleaning the data to best reflect minor changes through the years (lines / stations closed, changed names, etc.). \n",
    "- Otherwise, it seems to be a matter of time and Python and Python library proficiency on my end :)"
   ]
  },
  {
   "cell_type": "markdown",
   "metadata": {},
   "source": [
    "<img src=\"https://upload.wikimedia.org/wikipedia/commons/thumb/0/08/Moscow_metro_lines_geographical.svg/300px-Moscow_metro_lines_geographical.svg.png\">"
   ]
  }
 ],
 "metadata": {
  "celltoolbar": "Raw Cell Format",
  "colab": {
   "name": "HW #6 - Final Project Scope.ipynb",
   "provenance": []
  },
  "kernelspec": {
   "display_name": "Python 3 (ipykernel)",
   "language": "python",
   "name": "python3"
  },
  "language_info": {
   "codemirror_mode": {
    "name": "ipython",
    "version": 3
   },
   "file_extension": ".py",
   "mimetype": "text/x-python",
   "name": "python",
   "nbconvert_exporter": "python",
   "pygments_lexer": "ipython3",
   "version": "3.9.7"
  }
 },
 "nbformat": 4,
 "nbformat_minor": 1
}
